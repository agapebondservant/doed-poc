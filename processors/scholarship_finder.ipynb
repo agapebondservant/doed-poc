{
 "cells": [
  {
   "cell_type": "markdown",
   "metadata": {
    "id": "b0DO2AryfwGK"
   },
   "source": [
    "## Implementing a student financial aid finder with Agentic Workflows\n",
    "<link rel=\"stylesheet\"\n",
    "href=\"https://stackpath.bootstrapcdn.com/bootstrap/4.5.2/css/bootstrap.min.css\"\n",
    "integrity=\"sha384-JcKb8q3iqJ61gNV9KGb8thSsNjpSL0n8PARn9HuZOnIxN0hoP+VmmDGMN5t9UJ0Z\"\n",
    "crossorigin=\"anonymous\">\n",
    "<div class=\"bg-info\">\n",
    "<h3>What are agentic workflows?</h3>\n",
    "</div>\n",
    "\n",
    "An <b>agentic workflow</b> is a multi-step sequence of tasks or decisions whose orchestration is handled by AI agents. In Generative AI, AI agents are Large Language Models (or \"Large Action Models\" in this context) that can perform goal-oriented tasks with minimal human intervention. Such tasks may include everything from simple reasoning tasks to complex decision making, and often involve interaction with external resources or systems (called \"tools\").\n",
    "\n",
    "The following will build an agentic workflow for finding scholarships and other student aid. The initial version of the workflow will consist of the following steps:\n",
    "\n",
    "\n",
    "1.   A **screener** agent (LLM) builds a list of relevant questions for the interviewer to use to converse with the user.\n",
    "2.   An **interviewer** agent (LLM) handles back-and-forth interaction with the user to gather enough information for the co-interviewer agent. During each turn, it will narrow down relevant questions for the interview and iteratively feed them to the user. Once it thinks it has a complete user profile, it will end the interview and the reporter will be notified.\n",
    "3.   A **reporter** agent (LLM + tool) receives notification from the interviewer agent that the interview has ended, then generates a personalized report containing student aid options that match the user's profile.\n",
    "\n",
    "\n",
    "\n",
    "<div class=\"bg-info\">\n",
    "<h3>What is the difference between an agentic framework and an agentic orchestration framework?</h3>\n",
    "</div>\n",
    "\n",
    "There are different schools of thought about agentic orchestration frameworks.\n",
    "\n",
    "Agentic orchestration can refer to <b>agent-of-agent</b> systems, which are defined based on the number of agents. In this case, they are simply agentic systems that consist of more than a single agent. Hence, it can refer to agentic systems with multiple agents; it can also refer to agentic systems that invoke other agentic systems.\n",
    "\n",
    "Sometimes, agentic orchestration can also be used to distinguish complex multi-agent systems from simpler agentic systems. In this case, agentic orchestration is only necessary for systems with high levels of complexity. This is based on not just the number of agents, but other factors such as the types of flows (directed versus cyclic).\n",
    "\n",
    "There are many frameworks that can be used for building agentic workflows. Due to their reasoning and decision-making abilities, LLMs are a natural fit for driving autonomous workflows. However, users often want the ability to extend, constrain or even override aspects of the flow. For example, they may need a way to dynamically limit cycles, manage state across disparate tools, or integrate human-in-the-loop fedback. A popular approach is to use <b>LLM orchestration</b> frameworks. These are frameworks that combine the flexible and dynamic capabilities of agent-driven workflows with low-level control over essential details of the orchestration. This notebook uses <b>LangChain</b> to build the AI agents, and <b>LangGraph</b> to build the agentic workflow that orchestrates the agents.\n",
    "\n",
    "<div class=\"bg-info\">\n",
    "<h3>Workflow Summary</h3>\n",
    "</div>\n",
    "\n",
    "Steps of the Scholarship Finder:\n",
    "- <i>Screener</i> builds a list of questions that will be used by the interviewer for the conversation with the user.\n",
    "- <i>Interviewer</i> agent receives the user's student aid inquiry and uses it to initiate an interview with the user.\n",
    "  - The interviewer extracts the latest user profile and uses it to analyze whether there is enough information to answer the interview questions.\n",
    "      - If there is not enough information, the interviewer selects one of the questions to prompt to the user using an interrupt.\n",
    "      - Else (i.e. there is enough information), the workflow redirects to the reporter agent.\n",
    "- <i>Reporter</i> agent generates a personalized report of student aid that the user could qualify for.\n",
    "  - The reporter uses its RAG tool to include a reference to a document in the data store for each student aid option.\n",
    "  - The workflow ends."
   ]
  },
  {
   "cell_type": "markdown",
   "metadata": {
    "id": "NBqxqZJ5dR8Y"
   },
   "source": [
    "# Setup"
   ]
  },
  {
   "cell_type": "code",
   "execution_count": 1,
   "metadata": {
    "id": "XynJQl3jsZSe"
   },
   "outputs": [],
   "source": [
    "# Import libraries\n",
    "from typing import TypedDict, Literal\n",
    "import json\n",
    "import random\n",
    "from langgraph.graph import END, StateGraph\n",
    "from IPython.display import Image, display\n",
    "from langchain_core.runnables.graph import CurveStyle, MermaidDrawMethod\n",
    "from langchain_core.messages import HumanMessage\n",
    "import os\n",
    "from typing import Annotated, Literal, TypedDict\n",
    "from langgraph.graph.message import add_messages\n",
    "from langchain_community.tools.tavily_search import TavilySearchResults\n",
    "from langchain_core.prompts import ChatPromptTemplate, MessagesPlaceholder\n",
    "from langchain_core.messages import filter_messages\n",
    "from langchain_openai import ChatOpenAI\n",
    "import functools\n",
    "from langgraph.prebuilt import ToolNode\n",
    "from langchain_core.tools import tool\n",
    "from langgraph.prebuilt import create_react_agent\n",
    "from langgraph.checkpoint.memory import MemorySaver\n",
    "from langgraph.types import interrupt, Command\n",
    "from langchain.text_splitter import RecursiveCharacterTextSplitter\n",
    "import time\n",
    "from ipywidgets import FileUpload, Button\n",
    "from IPython.display import display\n",
    "import codecs\n",
    "import re\n",
    "from vectordb_processor import VectorDbProcessor\n",
    "import traceback"
   ]
  },
  {
   "cell_type": "markdown",
   "metadata": {
    "id": "CtrqsCjqn6X6"
   },
   "source": [
    "## Defining Templates\n",
    "Each agent has its own specific **template**. The templates are defined here."
   ]
  },
  {
   "cell_type": "code",
   "execution_count": 2,
   "metadata": {
    "id": "wVN2oUbUn5J7"
   },
   "outputs": [],
   "source": [
    "screener_template = \"\"\"\n",
    "Can you ask me some short questions that could be used to find out how to qualify for college financial aid in this state, including scholarships, grants, etc?\n",
    "Use intuitive, simple language.\n",
    "\n",
    "Start with these lines: \n",
    "FROM SCREENER\n",
    "*START QUESTIONS\n",
    "\n",
    "End with this line:\n",
    "*END QUESTIONS\n",
    "\"\"\"\n",
    "\n",
    "interviewer_template = \"\"\"\n",
    "You are a friendly interviewer. Please analyze the following questions to the best of your ability. \n",
    "\n",
    "For each question, if more information is needed to provide a definitive answer about college financial aid eligibility, say NOT_ENOUGH_INFO next to the question, \n",
    "but if no more information is needed to provide a definitive answer about college financial aid eligibility, \n",
    "say HAS_ENOUGH_INFO next to the question. Explain your answer. Try to use one sentence in your answers.\n",
    "\n",
    "Start with this line: \n",
    "FROM INTERVIEWER\n",
    "\"\"\"\n",
    "\n",
    "reporter_template = \"\"\"\n",
    "You are an intelligent analyst. Given the information below, what student aid am I likely to qualify for in this state? \n",
    "\n",
    "Where possible, for each student aid type in your answer, try to include the names of specific programs, institutions or organizations. \n",
    "\n",
    "If I am highly likely to qualify, say so, otherwise say that I am not likely to qualify. \n",
    "\n",
    "Start with this line: \n",
    "FROM REPORTER\n",
    "\n",
    "When you're finished, say FINISHED.\n",
    "\"\"\"\n",
    "\n",
    "reporter_tool_prompt_template = \"\"\"\n",
    "Given this information, what student aid am I likely to qualify for in this state? \n",
    "\"\"\""
   ]
  },
  {
   "cell_type": "markdown",
   "metadata": {
    "id": "-HnyBupj2ciz"
   },
   "source": [
    "## Defining State\n",
    "Here, we will define our **GraphState**, as well as the **nodes** and **edges** that our graph is comprised of. This will encapsulate **state** in our agentic workflows."
   ]
  },
  {
   "cell_type": "code",
   "execution_count": 3,
   "metadata": {
    "id": "Tvdvlt-I13r4"
   },
   "outputs": [],
   "source": [
    "#####################################\n",
    "## STATE ##\n",
    "#####################################\n",
    "class NMAgentState(TypedDict):\n",
    "  \"\"\"\n",
    "  Encapsulates state in our agentic workflow\n",
    "  \"\"\"\n",
    "  messages: Annotated[list, add_messages]\n",
    "  userinfo: Annotated[list, add_messages]\n",
    "  questions: str\n",
    "\n",
    "#####################################\n",
    "## TOOLS ##\n",
    "#####################################\n",
    "@tool\n",
    "def reporter_tool(reporter_tool_prompt_template):\n",
    "    \"\"\"\n",
    "    Agentic RAG tool for Reporter\n",
    "    \"\"\"\n",
    "    prompt = ChatPromptTemplate.from_messages([(\"system\",\"{system_message}\",), MessagesPlaceholder(variable_name=\"userinfo\"), MessagesPlaceholder(variable_name=\"questions\"),])\n",
    "    prompt = prompt.partial(system_message=system_prompt)\n",
    "    return prompt | granite_llm\n",
    "    \n",
    "#####################################\n",
    "## AGENTS ##\n",
    "#####################################\n",
    "\"\"\"\n",
    "The LLMs used by the agents\n",
    "\"\"\"\n",
    "granite_llm = ChatOpenAI(temperature=0,\n",
    "                         model=\"granite-3-3-8b-instruct\",\n",
    "                         request_timeout=240,\n",
    "                         api_key=os.getenv('GRANITE_API_KEY'),\n",
    "                         base_url=os.getenv('GRANITE_API_BASE'),\n",
    "                        )\n",
    "\n",
    "def create_agent(llm, tools, system_message: str, messages_key: str = None):\n",
    "    \"\"\"\n",
    "    Creates an agent with the given LLM, tools, and system message\n",
    "    \"\"\"\n",
    "    prompt = ChatPromptTemplate.from_messages(\n",
    "        [\n",
    "            (\n",
    "                \"system\",\n",
    "                \"{system_message}\",\n",
    "            ),\n",
    "            MessagesPlaceholder(variable_name=messages_key or \"messages\"),\n",
    "        ]\n",
    "    )\n",
    "    prompt = prompt.partial(system_message=system_message)\n",
    "    if tools:\n",
    "      return prompt | llm.bind_tools(tools)\n",
    "    else:\n",
    "      return prompt | llm\n",
    "\n",
    "screener_agent = create_agent(granite_llm, [], screener_template)\n",
    "interviewer_agent = create_agent(granite_llm, [], interviewer_template)\n",
    "reporter_agent = create_agent(granite_llm, [], reporter_template)\n",
    "\n",
    "#####################################\n",
    "## NODES ##\n",
    "#####################################\n",
    "def agent_node(state, agent, name):\n",
    "  print(f\"here: {name}\")\n",
    "  output = agent.invoke(state)\n",
    "\n",
    "  incomplete_question = find_incomplete_question(output.content)\n",
    "\n",
    "    \n",
    "  if (incomplete_question):\n",
    "      incomplete_question_response = interrupt(value=f\"### Question: {incomplete_question}\")\n",
    "      \n",
    "      results = [output] + [HumanMessage(content=incomplete_question_response)]\n",
    "  else:\n",
    "      results = [output]\n",
    "      \n",
    "  return { \"messages\": results, \n",
    "          \"questions\": parse_questions(output.content) or state['questions'],\n",
    "          \"userinfo\": filter_messages(state['messages']+[output],include_types=\"human\")}\n",
    "\n",
    "screener_node = functools.partial(agent_node, agent=screener_agent, name=\"Screener Agent\")\n",
    "interviewer_node = functools.partial(agent_node, agent=interviewer_agent, name=\"Interviewer Agent\")\n",
    "reporter_node = functools.partial(agent_node, agent=reporter_agent, name=\"Reporter Agent\")\n",
    "reporter_tool_node = ToolNode([reporter_tool])\n",
    "\n",
    "#####################################\n",
    "## CONDITIONAL EDGES ##\n",
    "#####################################\n",
    "def should_continue_interview(state) -> Literal['interviewer','reporter']:\n",
    "    if len(state['messages']) and state['questions'] and find_incomplete_question(state['messages'][-1].content) is None:\n",
    "        return \"reporter\"\n",
    "    else:\n",
    "        return \"interviewer\"\n",
    "    \n",
    "def should_generate_report(state) -> Literal['reporter-tools', END]:\n",
    "  if len(state['messages']) and 'tool_calls' in state['messages'][-1] and state['messages'][-1].tool_calls:\n",
    "      return \"reporter-tools\"\n",
    "  else:\n",
    "      return END\n",
    "\n",
    "\n",
    "#####################################\n",
    "## UTILITY METHODS ##\n",
    "#####################################\n",
    "def parse_questions(content: str) -> bool:\n",
    "    if content is None:\n",
    "        return \"\"\n",
    "    pattern = r\"\\*START QUESTIONS(.*?)\\*END QUESTIONS\"\n",
    "    match = re.search(pattern, content, re.DOTALL)\n",
    "    return match.group(1).strip() if match else \"\"\n",
    "\n",
    "def find_incomplete_question(content: str) -> str:\n",
    "    if content is None:\n",
    "        return None \n",
    "    pattern = r\"(.*(\\n){1})NOT_ENOUGH_INFO\"\n",
    "    match = re.search(pattern, content)\n",
    "    return match.group(1).strip() if match else None\n",
    "    "
   ]
  },
  {
   "cell_type": "markdown",
   "metadata": {
    "id": "i8Lk_1C-8Qzd"
   },
   "source": [
    "## Defining the Workflow Graph\n",
    "Here, we will define the workflow, which will encapsulate the state, nodes and edges defined above."
   ]
  },
  {
   "cell_type": "code",
   "execution_count": 4,
   "metadata": {
    "id": "-7R8y42I8pjP"
   },
   "outputs": [],
   "source": [
    "workflow = StateGraph(NMAgentState)\n",
    "\n",
    "# nodes\n",
    "workflow.add_node(\"screener\", screener_node)\n",
    "workflow.add_node(\"interviewer\", interviewer_node)\n",
    "workflow.add_node(\"reporter\", reporter_node)\n",
    "workflow.add_node(\"reporter-tools\", reporter_tool_node)\n",
    "\n",
    "# entrypoint\n",
    "workflow.set_entry_point(\"screener\")\n",
    "\n",
    "# edges\n",
    "workflow.add_edge(\"screener\", \"interviewer\")\n",
    "workflow.add_conditional_edges(\"interviewer\", should_continue_interview)\n",
    "# workflow.add_conditional_edges(\"reporter\", should_generate_report)\n",
    "workflow.add_edge(\"reporter\", END)\n",
    "workflow.add_edge(\"reporter-tools\", \"reporter\")\n",
    "\n",
    "# compile the workflow into a graph\n",
    "checkpointer = MemorySaver()\n",
    "graph = workflow.compile(checkpointer=checkpointer)"
   ]
  },
  {
   "cell_type": "markdown",
   "metadata": {
    "id": "aUg7mvnN-Ors"
   },
   "source": [
    "Visualize the graph:"
   ]
  },
  {
   "cell_type": "code",
   "execution_count": 5,
   "metadata": {
    "colab": {
     "base_uri": "https://localhost:8080/",
     "height": 796
    },
    "id": "ztvmtR3S-QrM",
    "outputId": "40dae56c-8757-4428-b94b-49d2b732c12a"
   },
   "outputs": [
    {
     "data": {
      "image/png": "[encoded data removed]",
      "text/plain": [
       "<IPython.core.display.Image object>"
      ]
     },
     "execution_count": 5,
     "metadata": {},
     "output_type": "execute_result"
    }
   ],
   "source": [
    "Image(graph.get_graph().draw_mermaid_png())"
   ]
  },
  {
   "cell_type": "markdown",
   "metadata": {
    "id": "YV-oh0rL-Vs7"
   },
   "source": [
    "# Testing the workflow\n",
    "Now that the workflow has been generated, we can test it out with different prompts."
   ]
  },
  {
   "cell_type": "code",
   "execution_count": 6,
   "metadata": {},
   "outputs": [],
   "source": [
    "# Prompt to test\n",
    "input_text = f\"\"\"I live in California.\"\"\""
   ]
  },
  {
   "cell_type": "code",
   "execution_count": 7,
   "metadata": {
    "colab": {
     "base_uri": "https://localhost:8080/"
    },
    "id": "ih0KwOth_Ic2",
    "outputId": "2fb8e1eb-610d-4ca6-f98e-5a22cb3b9309"
   },
   "outputs": [
    {
     "name": "stdout",
     "output_type": "stream",
     "text": [
      "================================\u001b[1m Human Message \u001b[0m=================================\n",
      "\n",
      "I live in California.\n",
      "here: Screener Agent\n",
      "==================================\u001b[1m Ai Message \u001b[0m==================================\n",
      "\n",
      "FROM SCREENER\n",
      "*START QUESTIONS\n",
      "\n",
      "1. Are you a resident of California?\n",
      "2. Have you applied or been accepted to a college or university in California?\n",
      "3. Do you plan to enroll as a full-time or part-time student?\n",
      "4. Have you or your parents saved for college using a 529 plan?\n",
      "5. Are you a low-income student or come from a low-income family?\n",
      "6. Are you a first-generation college student, meaning neither of your parents has a bachelor's degree?\n",
      "7. Do you belong to a racial or ethnic minority group underrepresented in higher education?\n",
      "8. Have you demonstrated exceptional academic or artistic talent?\n",
      "9. Are you a veteran or dependent of a veteran?\n",
      "10. Do you have any special skills or talents that could qualify you for specific scholarships?\n",
      "11. Have you explored the California State University (CSU) and University of California (UC) systems' specific financial aid resources?\n",
      "12. Are you aware of any private scholarships offered by local organizations, businesses, or community groups in California?\n",
      "\n",
      "*END QUESTIONS\n",
      "here: Interviewer Agent\n"
     ]
    },
    {
     "name": "stdin",
     "output_type": "stream",
     "text": [
      "### Question: 2. Have you applied or been accepted to a college or university in California? I applied to Berkley but was not accepted.\n"
     ]
    },
    {
     "name": "stdout",
     "output_type": "stream",
     "text": [
      "==================================\u001b[1m Ai Message \u001b[0m==================================\n",
      "\n",
      "FROM SCREENER\n",
      "*START QUESTIONS\n",
      "\n",
      "1. Are you a resident of California?\n",
      "2. Have you applied or been accepted to a college or university in California?\n",
      "3. Do you plan to enroll as a full-time or part-time student?\n",
      "4. Have you or your parents saved for college using a 529 plan?\n",
      "5. Are you a low-income student or come from a low-income family?\n",
      "6. Are you a first-generation college student, meaning neither of your parents has a bachelor's degree?\n",
      "7. Do you belong to a racial or ethnic minority group underrepresented in higher education?\n",
      "8. Have you demonstrated exceptional academic or artistic talent?\n",
      "9. Are you a veteran or dependent of a veteran?\n",
      "10. Do you have any special skills or talents that could qualify you for specific scholarships?\n",
      "11. Have you explored the California State University (CSU) and University of California (UC) systems' specific financial aid resources?\n",
      "12. Are you aware of any private scholarships offered by local organizations, businesses, or community groups in California?\n",
      "\n",
      "*END QUESTIONS\n",
      "here: Interviewer Agent\n",
      "================================\u001b[1m Human Message \u001b[0m=================================\n",
      "\n",
      "I applied to Berkley but was not accepted.\n",
      "here: Reporter Agent\n",
      "==================================\u001b[1m Ai Message \u001b[0m==================================\n",
      "\n",
      "1. Have you applied or been accepted to a college or university in California?\n",
      "NOT_ACCEPTED - You've applied to UC Berkeley but were not accepted. This information is crucial for determining your eligibility for institution-specific financial aid.\n",
      "\n",
      "FROM ANALYST\n",
      "\n",
      "Based on the information provided, it's challenging to definitively state whether you're likely to qualify for student aid in California. However, as a California resident, you are eligible to apply for state-specific financial aid programs, such as:\n",
      "\n",
      "1. **Cal Grant**: This is a need-based grant for California residents attending college in California. It can cover tuition, fees, room and board, books, and personal and computing expenses.\n",
      "\n",
      "2. **California State University (CSU) Financial Aid**: As a California resident, you can apply for financial aid through the CSU system. The CSU offers a combination of grants, loans, and work-study opportunities.\n",
      "\n",
      "3. **University of California (UC) Financial Aid**: Although you weren't accepted to UC Berkeley, you can still apply for financial aid through other UC campuses if you choose to reapply. UC offers a mix of need-based and non-need-based aid, including grants, loans, and work-study.\n",
      "\n",
      "Your non-acceptance to UC Berkeley doesn't preclude you from applying to other UC campuses or CSU schools, where you could potentially qualify for financial aid. \n",
      "\n",
      "To determine your eligibility for specific aid programs, you would need to complete the Free Application for Federal Student Aid (FAFSA) and the California Dream Act Application (CDA) by the priority deadline. These applications will consider your family's income, assets, and other factors to estimate your Expected Family Contribution (EFC) and determine your need for financial aid.\n",
      "\n",
      "Without knowing your family's financial situation, your academic record, and other factors, it's impossible to say definitively whether you're likely to qualify for student aid. However, as a California resident, you have access to several state-funded financial aid programs.\n",
      "\n",
      "FINISHED\n"
     ]
    }
   ],
   "source": [
    "def run_stream(stream):\n",
    "    try:\n",
    "      for event in stream:\n",
    "          if '__interrupt__' in event:\n",
    "              input_text = input(event['__interrupt__'][0].value)\n",
    "              stream = graph.stream(Command(resume=input_text), config=config, stream_mode=\"values\")\n",
    "              run_stream(stream)\n",
    "              continue\n",
    "          else:\n",
    "              last_message = event['messages'][-1]\n",
    "              last_message.pretty_print()\n",
    "    except Exception as e:\n",
    "      print(f\"\\n\\nErrors generating response:\\n===============\\n {str(e)}\")\n",
    "      traceback.print_exc()\n",
    "\n",
    "config = {\"configurable\": {\"thread_id\": 13, \"recursion_limit\": 5}}\n",
    "stream = graph.stream({\"messages\": [HumanMessage(content=input_text)],\"questions\":None, \"userinfo\":[]}, config, stream_mode=\"values\")\n",
    "run_stream(stream)"
   ]
  }
 ],
 "metadata": {
  "colab": {
   "provenance": []
  },
  "kernelspec": {
   "display_name": "Python 3.11",
   "language": "python",
   "name": "python3"
  },
  "language_info": {
   "codemirror_mode": {
    "name": "ipython",
    "version": 3
   },
   "file_extension": ".py",
   "mimetype": "text/x-python",
   "name": "python",
   "nbconvert_exporter": "python",
   "pygments_lexer": "ipython3",
   "version": "3.11.7"
  }
 },
 "nbformat": 4,
 "nbformat_minor": 4
}
